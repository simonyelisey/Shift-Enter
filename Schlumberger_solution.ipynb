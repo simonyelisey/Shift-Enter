{
  "nbformat": 4,
  "nbformat_minor": 0,
  "metadata": {
    "colab": {
      "name": "Schlumberger.ipynb",
      "provenance": [],
      "collapsed_sections": []
    },
    "kernelspec": {
      "name": "python3",
      "display_name": "Python 3"
    },
    "language_info": {
      "name": "python"
    }
  },
  "cells": [
    {
      "cell_type": "code",
      "source": [
        "# устанка catboost\n",
        "pip install catboost"
      ],
      "metadata": {
        "id": "Uu2LfZFiVstm",
        "colab": {
          "base_uri": "https://localhost:8080/"
        },
        "outputId": "e82bde46-f240-4944-82b2-df2f25ac6763"
      },
      "execution_count": 27,
      "outputs": [
        {
          "output_type": "stream",
          "name": "stdout",
          "text": [
            "Collecting catboost\n",
            "  Downloading catboost-1.0.4-cp37-none-manylinux1_x86_64.whl (76.1 MB)\n",
            "\u001b[K     |████████████████████████████████| 76.1 MB 1.3 MB/s \n",
            "\u001b[?25hRequirement already satisfied: scipy in /usr/local/lib/python3.7/dist-packages (from catboost) (1.4.1)\n",
            "Requirement already satisfied: matplotlib in /usr/local/lib/python3.7/dist-packages (from catboost) (3.2.2)\n",
            "Requirement already satisfied: graphviz in /usr/local/lib/python3.7/dist-packages (from catboost) (0.10.1)\n",
            "Requirement already satisfied: numpy>=1.16.0 in /usr/local/lib/python3.7/dist-packages (from catboost) (1.21.5)\n",
            "Requirement already satisfied: plotly in /usr/local/lib/python3.7/dist-packages (from catboost) (5.5.0)\n",
            "Requirement already satisfied: six in /usr/local/lib/python3.7/dist-packages (from catboost) (1.15.0)\n",
            "Requirement already satisfied: pandas>=0.24.0 in /usr/local/lib/python3.7/dist-packages (from catboost) (1.3.5)\n",
            "Requirement already satisfied: python-dateutil>=2.7.3 in /usr/local/lib/python3.7/dist-packages (from pandas>=0.24.0->catboost) (2.8.2)\n",
            "Requirement already satisfied: pytz>=2017.3 in /usr/local/lib/python3.7/dist-packages (from pandas>=0.24.0->catboost) (2018.9)\n",
            "Requirement already satisfied: cycler>=0.10 in /usr/local/lib/python3.7/dist-packages (from matplotlib->catboost) (0.11.0)\n",
            "Requirement already satisfied: kiwisolver>=1.0.1 in /usr/local/lib/python3.7/dist-packages (from matplotlib->catboost) (1.3.2)\n",
            "Requirement already satisfied: pyparsing!=2.0.4,!=2.1.2,!=2.1.6,>=2.0.1 in /usr/local/lib/python3.7/dist-packages (from matplotlib->catboost) (3.0.7)\n",
            "Requirement already satisfied: tenacity>=6.2.0 in /usr/local/lib/python3.7/dist-packages (from plotly->catboost) (8.0.1)\n",
            "Installing collected packages: catboost\n",
            "Successfully installed catboost-1.0.4\n"
          ]
        }
      ]
    },
    {
      "cell_type": "code",
      "execution_count": 158,
      "metadata": {
        "id": "xUe-1KhWeY8J"
      },
      "outputs": [],
      "source": [
        "# импортируем нужные библиотеки\n",
        "import pandas as pd\n",
        "import numpy as np\n",
        "import seaborn as sns\n",
        "import matplotlib.pyplot as plt\n",
        "from scipy import stats\n",
        "from sklearn.impute import KNNImputer\n",
        "from sklearn.model_selection import train_test_split\n",
        "from sklearn.metrics import mean_absolute_percentage_error, mean_absolute_error\n",
        "from xgboost import XGBRegressor\n",
        "from catboost import CatBoostRegressor"
      ]
    },
    {
      "cell_type": "code",
      "source": [
        "# загрузим данные\n",
        "df = pd.read_csv('dataset.csv')"
      ],
      "metadata": {
        "id": "ukg1Ly2efMC0"
      },
      "execution_count": 159,
      "outputs": []
    },
    {
      "cell_type": "markdown",
      "source": [
        "**Описание дата-сета:**\n",
        "\n",
        "- Well_id — уникальный идентификатор скважины.\n",
        "\n",
        "- Reservoir pressure — давление жидкости в пласте, [давление].\n",
        "\n",
        "- ISIP (Instantaneous Shut-In Pressure) — давление жидкости после\n",
        "мини-ГРП5, [давление].\n",
        "\n",
        "- Closure Pressure — давление жидкости, когда трещина полностью\n",
        "     закрывается, [давление].\n",
        "\n",
        "- PAD Volume — объем чистой жидкости, закачанной в трещину, [объем].\n",
        "\n",
        "- Fluid Efficiency — эффективность жидкости гидроразрыва (вычисляется\n",
        "     как отношение объема трещины к объему закачанной жидкости), [0-1].\n",
        "\n",
        "- Transmissibility (пропускная способность) — коэффициент,\n",
        "     характеризующий сопротивление жидкости течению через пласт.\n",
        "- Total Prop Mass — общая масса закачанного проппанта во время\n",
        "     основной обработки, [масса].\n",
        "\n",
        "- Max Prop Conc — максимальная концентрация проппанта во время\n",
        "     основной обработки, [концентрация]."
      ],
      "metadata": {
        "id": "Gd3FZJkfwUjD"
      }
    },
    {
      "cell_type": "code",
      "source": [
        "df"
      ],
      "metadata": {
        "colab": {
          "base_uri": "https://localhost:8080/",
          "height": 1000
        },
        "id": "JVe2k1tjfVO3",
        "outputId": "f63bacfe-1a82-4890-f725-5785382a416f"
      },
      "execution_count": 160,
      "outputs": [
        {
          "output_type": "execute_result",
          "data": {
            "text/html": [
              "\n",
              "  <div id=\"df-937745a4-7121-4783-9959-d3e7e648fbc0\">\n",
              "    <div class=\"colab-df-container\">\n",
              "      <div>\n",
              "<style scoped>\n",
              "    .dataframe tbody tr th:only-of-type {\n",
              "        vertical-align: middle;\n",
              "    }\n",
              "\n",
              "    .dataframe tbody tr th {\n",
              "        vertical-align: top;\n",
              "    }\n",
              "\n",
              "    .dataframe thead th {\n",
              "        text-align: right;\n",
              "    }\n",
              "</style>\n",
              "<table border=\"1\" class=\"dataframe\">\n",
              "  <thead>\n",
              "    <tr style=\"text-align: right;\">\n",
              "      <th></th>\n",
              "      <th>Well_id</th>\n",
              "      <th>Reservoir Pressure</th>\n",
              "      <th>ISIP</th>\n",
              "      <th>Closure Pressure</th>\n",
              "      <th>PAD Volume</th>\n",
              "      <th>Fluid Efficiency</th>\n",
              "      <th>Transmissibility</th>\n",
              "      <th>Total Prop Mass</th>\n",
              "      <th>Max Prop Conc</th>\n",
              "    </tr>\n",
              "  </thead>\n",
              "  <tbody>\n",
              "    <tr>\n",
              "      <th>0</th>\n",
              "      <td>0</td>\n",
              "      <td>1250.50</td>\n",
              "      <td>2129.5</td>\n",
              "      <td>1861.0</td>\n",
              "      <td>4.892</td>\n",
              "      <td>0.149</td>\n",
              "      <td>12.685</td>\n",
              "      <td>16787.317</td>\n",
              "      <td>7.0</td>\n",
              "    </tr>\n",
              "    <tr>\n",
              "      <th>1</th>\n",
              "      <td>2</td>\n",
              "      <td>946.75</td>\n",
              "      <td>2850.5</td>\n",
              "      <td>2413.5</td>\n",
              "      <td>5.005</td>\n",
              "      <td>0.240</td>\n",
              "      <td>10.236</td>\n",
              "      <td>14543.000</td>\n",
              "      <td>5.0</td>\n",
              "    </tr>\n",
              "    <tr>\n",
              "      <th>2</th>\n",
              "      <td>3</td>\n",
              "      <td>1515.00</td>\n",
              "      <td>3782.5</td>\n",
              "      <td>3054.5</td>\n",
              "      <td>4.995</td>\n",
              "      <td>0.100</td>\n",
              "      <td>10.667</td>\n",
              "      <td>14366.000</td>\n",
              "      <td>5.0</td>\n",
              "    </tr>\n",
              "    <tr>\n",
              "      <th>3</th>\n",
              "      <td>4</td>\n",
              "      <td>2390.55</td>\n",
              "      <td>3449.5</td>\n",
              "      <td>3048.0</td>\n",
              "      <td>4.457</td>\n",
              "      <td>0.040</td>\n",
              "      <td>10.765</td>\n",
              "      <td>15406.000</td>\n",
              "      <td>5.0</td>\n",
              "    </tr>\n",
              "    <tr>\n",
              "      <th>4</th>\n",
              "      <td>8</td>\n",
              "      <td>655.95</td>\n",
              "      <td>NaN</td>\n",
              "      <td>2290.0</td>\n",
              "      <td>3.563</td>\n",
              "      <td>0.080</td>\n",
              "      <td>12.254</td>\n",
              "      <td>15504.917</td>\n",
              "      <td>7.0</td>\n",
              "    </tr>\n",
              "    <tr>\n",
              "      <th>5</th>\n",
              "      <td>9</td>\n",
              "      <td>1837.95</td>\n",
              "      <td>4592.5</td>\n",
              "      <td>3053.0</td>\n",
              "      <td>4.988</td>\n",
              "      <td>0.360</td>\n",
              "      <td>10.404</td>\n",
              "      <td>14162.417</td>\n",
              "      <td>5.0</td>\n",
              "    </tr>\n",
              "    <tr>\n",
              "      <th>6</th>\n",
              "      <td>10</td>\n",
              "      <td>927.00</td>\n",
              "      <td>3503.0</td>\n",
              "      <td>2331.0</td>\n",
              "      <td>4.404</td>\n",
              "      <td>0.290</td>\n",
              "      <td>10.986</td>\n",
              "      <td>16674.917</td>\n",
              "      <td>5.0</td>\n",
              "    </tr>\n",
              "    <tr>\n",
              "      <th>7</th>\n",
              "      <td>11</td>\n",
              "      <td>1634.70</td>\n",
              "      <td>3758.5</td>\n",
              "      <td>2694.5</td>\n",
              "      <td>4.988</td>\n",
              "      <td>0.020</td>\n",
              "      <td>12.067</td>\n",
              "      <td>12597.417</td>\n",
              "      <td>5.0</td>\n",
              "    </tr>\n",
              "    <tr>\n",
              "      <th>8</th>\n",
              "      <td>12</td>\n",
              "      <td>1318.15</td>\n",
              "      <td>4253.0</td>\n",
              "      <td>3202.5</td>\n",
              "      <td>4.628</td>\n",
              "      <td>0.160</td>\n",
              "      <td>10.248</td>\n",
              "      <td>11694.583</td>\n",
              "      <td>5.0</td>\n",
              "    </tr>\n",
              "    <tr>\n",
              "      <th>9</th>\n",
              "      <td>13</td>\n",
              "      <td>1140.40</td>\n",
              "      <td>3062.0</td>\n",
              "      <td>2369.0</td>\n",
              "      <td>4.454</td>\n",
              "      <td>0.090</td>\n",
              "      <td>13.169</td>\n",
              "      <td>15655.500</td>\n",
              "      <td>5.0</td>\n",
              "    </tr>\n",
              "    <tr>\n",
              "      <th>10</th>\n",
              "      <td>15</td>\n",
              "      <td>2142.85</td>\n",
              "      <td>2850.0</td>\n",
              "      <td>2354.5</td>\n",
              "      <td>3.985</td>\n",
              "      <td>0.530</td>\n",
              "      <td>10.256</td>\n",
              "      <td>14289.500</td>\n",
              "      <td>5.0</td>\n",
              "    </tr>\n",
              "    <tr>\n",
              "      <th>11</th>\n",
              "      <td>16</td>\n",
              "      <td>1583.45</td>\n",
              "      <td>4348.0</td>\n",
              "      <td>3387.5</td>\n",
              "      <td>4.804</td>\n",
              "      <td>0.140</td>\n",
              "      <td>10.459</td>\n",
              "      <td>14904.083</td>\n",
              "      <td>5.0</td>\n",
              "    </tr>\n",
              "    <tr>\n",
              "      <th>12</th>\n",
              "      <td>17</td>\n",
              "      <td>1635.50</td>\n",
              "      <td>4494.0</td>\n",
              "      <td>3424.5</td>\n",
              "      <td>4.454</td>\n",
              "      <td>0.330</td>\n",
              "      <td>10.117</td>\n",
              "      <td>11527.317</td>\n",
              "      <td>5.0</td>\n",
              "    </tr>\n",
              "    <tr>\n",
              "      <th>13</th>\n",
              "      <td>18</td>\n",
              "      <td>1723.70</td>\n",
              "      <td>4947.0</td>\n",
              "      <td>3744.0</td>\n",
              "      <td>5.698</td>\n",
              "      <td>0.170</td>\n",
              "      <td>10.021</td>\n",
              "      <td>12251.100</td>\n",
              "      <td>5.0</td>\n",
              "    </tr>\n",
              "    <tr>\n",
              "      <th>14</th>\n",
              "      <td>19</td>\n",
              "      <td>1008.90</td>\n",
              "      <td>2668.0</td>\n",
              "      <td>2089.0</td>\n",
              "      <td>6.235</td>\n",
              "      <td>0.140</td>\n",
              "      <td>10.976</td>\n",
              "      <td>13664.583</td>\n",
              "      <td>7.0</td>\n",
              "    </tr>\n",
              "    <tr>\n",
              "      <th>15</th>\n",
              "      <td>21</td>\n",
              "      <td>1177.35</td>\n",
              "      <td>2530.5</td>\n",
              "      <td>1876.0</td>\n",
              "      <td>4.244</td>\n",
              "      <td>0.230</td>\n",
              "      <td>10.671</td>\n",
              "      <td>12120.833</td>\n",
              "      <td>5.0</td>\n",
              "    </tr>\n",
              "    <tr>\n",
              "      <th>16</th>\n",
              "      <td>22</td>\n",
              "      <td>1480.75</td>\n",
              "      <td>2219.5</td>\n",
              "      <td>2085.0</td>\n",
              "      <td>4.469</td>\n",
              "      <td>0.050</td>\n",
              "      <td>11.060</td>\n",
              "      <td>14359.167</td>\n",
              "      <td>6.0</td>\n",
              "    </tr>\n",
              "    <tr>\n",
              "      <th>17</th>\n",
              "      <td>23</td>\n",
              "      <td>1466.80</td>\n",
              "      <td>3988.5</td>\n",
              "      <td>2875.0</td>\n",
              "      <td>4.336</td>\n",
              "      <td>0.240</td>\n",
              "      <td>11.237</td>\n",
              "      <td>7424.833</td>\n",
              "      <td>5.0</td>\n",
              "    </tr>\n",
              "    <tr>\n",
              "      <th>18</th>\n",
              "      <td>24</td>\n",
              "      <td>320.50</td>\n",
              "      <td>1837.0</td>\n",
              "      <td>755.5</td>\n",
              "      <td>3.757</td>\n",
              "      <td>0.010</td>\n",
              "      <td>10.350</td>\n",
              "      <td>NaN</td>\n",
              "      <td>4.0</td>\n",
              "    </tr>\n",
              "    <tr>\n",
              "      <th>19</th>\n",
              "      <td>25</td>\n",
              "      <td>490.60</td>\n",
              "      <td>2065.5</td>\n",
              "      <td>1282.5</td>\n",
              "      <td>4.454</td>\n",
              "      <td>0.260</td>\n",
              "      <td>11.255</td>\n",
              "      <td>18889.167</td>\n",
              "      <td>7.0</td>\n",
              "    </tr>\n",
              "    <tr>\n",
              "      <th>20</th>\n",
              "      <td>26</td>\n",
              "      <td>1923.00</td>\n",
              "      <td>5345.0</td>\n",
              "      <td>4089.0</td>\n",
              "      <td>5.384</td>\n",
              "      <td>0.170</td>\n",
              "      <td>10.050</td>\n",
              "      <td>344.583</td>\n",
              "      <td>2.0</td>\n",
              "    </tr>\n",
              "    <tr>\n",
              "      <th>21</th>\n",
              "      <td>28</td>\n",
              "      <td>935.70</td>\n",
              "      <td>3762.5</td>\n",
              "      <td>2867.0</td>\n",
              "      <td>5.838</td>\n",
              "      <td>0.190</td>\n",
              "      <td>10.689</td>\n",
              "      <td>18122.333</td>\n",
              "      <td>6.0</td>\n",
              "    </tr>\n",
              "    <tr>\n",
              "      <th>22</th>\n",
              "      <td>30</td>\n",
              "      <td>480.85</td>\n",
              "      <td>4175.5</td>\n",
              "      <td>2183.0</td>\n",
              "      <td>4.632</td>\n",
              "      <td>0.280</td>\n",
              "      <td>10.978</td>\n",
              "      <td>15500.000</td>\n",
              "      <td>5.0</td>\n",
              "    </tr>\n",
              "    <tr>\n",
              "      <th>23</th>\n",
              "      <td>31</td>\n",
              "      <td>2438.40</td>\n",
              "      <td>3900.0</td>\n",
              "      <td>2779.0</td>\n",
              "      <td>3.078</td>\n",
              "      <td>0.770</td>\n",
              "      <td>10.112</td>\n",
              "      <td>14558.000</td>\n",
              "      <td>5.0</td>\n",
              "    </tr>\n",
              "    <tr>\n",
              "      <th>24</th>\n",
              "      <td>32</td>\n",
              "      <td>1360.50</td>\n",
              "      <td>3707.5</td>\n",
              "      <td>2664.5</td>\n",
              "      <td>4.657</td>\n",
              "      <td>0.430</td>\n",
              "      <td>10.063</td>\n",
              "      <td>15027.517</td>\n",
              "      <td>5.0</td>\n",
              "    </tr>\n",
              "    <tr>\n",
              "      <th>25</th>\n",
              "      <td>33</td>\n",
              "      <td>618.70</td>\n",
              "      <td>4475.5</td>\n",
              "      <td>3343.5</td>\n",
              "      <td>3.723</td>\n",
              "      <td>0.120</td>\n",
              "      <td>11.245</td>\n",
              "      <td>14037.000</td>\n",
              "      <td>6.0</td>\n",
              "    </tr>\n",
              "    <tr>\n",
              "      <th>26</th>\n",
              "      <td>34</td>\n",
              "      <td>1630.90</td>\n",
              "      <td>4766.5</td>\n",
              "      <td>3397.0</td>\n",
              "      <td>4.454</td>\n",
              "      <td>0.260</td>\n",
              "      <td>10.145</td>\n",
              "      <td>6363.083</td>\n",
              "      <td>3.0</td>\n",
              "    </tr>\n",
              "    <tr>\n",
              "      <th>27</th>\n",
              "      <td>35</td>\n",
              "      <td>1860.80</td>\n",
              "      <td>4322.5</td>\n",
              "      <td>2821.5</td>\n",
              "      <td>4.498</td>\n",
              "      <td>0.410</td>\n",
              "      <td>10.299</td>\n",
              "      <td>17250.000</td>\n",
              "      <td>6.0</td>\n",
              "    </tr>\n",
              "    <tr>\n",
              "      <th>28</th>\n",
              "      <td>36</td>\n",
              "      <td>1545.35</td>\n",
              "      <td>1948.5</td>\n",
              "      <td>1727.5</td>\n",
              "      <td>4.456</td>\n",
              "      <td>0.530</td>\n",
              "      <td>10.211</td>\n",
              "      <td>15183.333</td>\n",
              "      <td>5.0</td>\n",
              "    </tr>\n",
              "    <tr>\n",
              "      <th>29</th>\n",
              "      <td>38</td>\n",
              "      <td>502.00</td>\n",
              "      <td>2861.0</td>\n",
              "      <td>NaN</td>\n",
              "      <td>4.288</td>\n",
              "      <td>0.140</td>\n",
              "      <td>12.349</td>\n",
              "      <td>15476.417</td>\n",
              "      <td>9.0</td>\n",
              "    </tr>\n",
              "    <tr>\n",
              "      <th>30</th>\n",
              "      <td>39</td>\n",
              "      <td>2653.95</td>\n",
              "      <td>2986.5</td>\n",
              "      <td>2774.5</td>\n",
              "      <td>3.858</td>\n",
              "      <td>0.580</td>\n",
              "      <td>10.351</td>\n",
              "      <td>22828.500</td>\n",
              "      <td>8.0</td>\n",
              "    </tr>\n",
              "    <tr>\n",
              "      <th>31</th>\n",
              "      <td>40</td>\n",
              "      <td>257.10</td>\n",
              "      <td>2548.0</td>\n",
              "      <td>NaN</td>\n",
              "      <td>1.983</td>\n",
              "      <td>0.020</td>\n",
              "      <td>14.339</td>\n",
              "      <td>10247.167</td>\n",
              "      <td>8.0</td>\n",
              "    </tr>\n",
              "    <tr>\n",
              "      <th>32</th>\n",
              "      <td>41</td>\n",
              "      <td>106.15</td>\n",
              "      <td>2050.0</td>\n",
              "      <td>1416.5</td>\n",
              "      <td>4.298</td>\n",
              "      <td>0.100</td>\n",
              "      <td>13.340</td>\n",
              "      <td>11416.667</td>\n",
              "      <td>8.0</td>\n",
              "    </tr>\n",
              "    <tr>\n",
              "      <th>33</th>\n",
              "      <td>43</td>\n",
              "      <td>1487.25</td>\n",
              "      <td>3891.0</td>\n",
              "      <td>3134.0</td>\n",
              "      <td>1.598</td>\n",
              "      <td>0.100</td>\n",
              "      <td>11.330</td>\n",
              "      <td>6993.583</td>\n",
              "      <td>8.0</td>\n",
              "    </tr>\n",
              "    <tr>\n",
              "      <th>34</th>\n",
              "      <td>44</td>\n",
              "      <td>953.50</td>\n",
              "      <td>2651.5</td>\n",
              "      <td>2279.0</td>\n",
              "      <td>2.671</td>\n",
              "      <td>0.090</td>\n",
              "      <td>12.712</td>\n",
              "      <td>7166.667</td>\n",
              "      <td>8.0</td>\n",
              "    </tr>\n",
              "    <tr>\n",
              "      <th>35</th>\n",
              "      <td>45</td>\n",
              "      <td>1340.20</td>\n",
              "      <td>2400.5</td>\n",
              "      <td>1976.0</td>\n",
              "      <td>3.562</td>\n",
              "      <td>0.180</td>\n",
              "      <td>12.828</td>\n",
              "      <td>20749.583</td>\n",
              "      <td>10.0</td>\n",
              "    </tr>\n",
              "    <tr>\n",
              "      <th>36</th>\n",
              "      <td>46</td>\n",
              "      <td>1355.60</td>\n",
              "      <td>2514.5</td>\n",
              "      <td>2084.0</td>\n",
              "      <td>3.546</td>\n",
              "      <td>0.570</td>\n",
              "      <td>10.617</td>\n",
              "      <td>26874.000</td>\n",
              "      <td>10.0</td>\n",
              "    </tr>\n",
              "    <tr>\n",
              "      <th>37</th>\n",
              "      <td>47</td>\n",
              "      <td>937.80</td>\n",
              "      <td>2235.5</td>\n",
              "      <td>1789.0</td>\n",
              "      <td>3.558</td>\n",
              "      <td>0.060</td>\n",
              "      <td>14.008</td>\n",
              "      <td>NaN</td>\n",
              "      <td>10.0</td>\n",
              "    </tr>\n",
              "    <tr>\n",
              "      <th>38</th>\n",
              "      <td>48</td>\n",
              "      <td>1161.50</td>\n",
              "      <td>2427.0</td>\n",
              "      <td>1950.5</td>\n",
              "      <td>3.563</td>\n",
              "      <td>0.080</td>\n",
              "      <td>15.648</td>\n",
              "      <td>NaN</td>\n",
              "      <td>9.0</td>\n",
              "    </tr>\n",
              "    <tr>\n",
              "      <th>39</th>\n",
              "      <td>51</td>\n",
              "      <td>933.60</td>\n",
              "      <td>2706.0</td>\n",
              "      <td>2134.0</td>\n",
              "      <td>4.585</td>\n",
              "      <td>0.250</td>\n",
              "      <td>11.024</td>\n",
              "      <td>22932.500</td>\n",
              "      <td>8.0</td>\n",
              "    </tr>\n",
              "    <tr>\n",
              "      <th>40</th>\n",
              "      <td>52</td>\n",
              "      <td>2285.70</td>\n",
              "      <td>3196.0</td>\n",
              "      <td>2909.0</td>\n",
              "      <td>1.780</td>\n",
              "      <td>0.160</td>\n",
              "      <td>11.444</td>\n",
              "      <td>NaN</td>\n",
              "      <td>7.0</td>\n",
              "    </tr>\n",
              "    <tr>\n",
              "      <th>41</th>\n",
              "      <td>54</td>\n",
              "      <td>617.15</td>\n",
              "      <td>2975.5</td>\n",
              "      <td>2447.5</td>\n",
              "      <td>3.702</td>\n",
              "      <td>0.060</td>\n",
              "      <td>11.214</td>\n",
              "      <td>26720.917</td>\n",
              "      <td>10.0</td>\n",
              "    </tr>\n",
              "    <tr>\n",
              "      <th>42</th>\n",
              "      <td>55</td>\n",
              "      <td>1020.10</td>\n",
              "      <td>2420.5</td>\n",
              "      <td>1733.5</td>\n",
              "      <td>5.345</td>\n",
              "      <td>0.120</td>\n",
              "      <td>14.169</td>\n",
              "      <td>22975.000</td>\n",
              "      <td>9.0</td>\n",
              "    </tr>\n",
              "    <tr>\n",
              "      <th>43</th>\n",
              "      <td>56</td>\n",
              "      <td>1873.60</td>\n",
              "      <td>3235.5</td>\n",
              "      <td>3067.5</td>\n",
              "      <td>3.534</td>\n",
              "      <td>0.090</td>\n",
              "      <td>11.038</td>\n",
              "      <td>21381.083</td>\n",
              "      <td>8.0</td>\n",
              "    </tr>\n",
              "    <tr>\n",
              "      <th>44</th>\n",
              "      <td>57</td>\n",
              "      <td>794.50</td>\n",
              "      <td>NaN</td>\n",
              "      <td>2635.5</td>\n",
              "      <td>3.847</td>\n",
              "      <td>0.150</td>\n",
              "      <td>10.822</td>\n",
              "      <td>24806.833</td>\n",
              "      <td>9.0</td>\n",
              "    </tr>\n",
              "    <tr>\n",
              "      <th>45</th>\n",
              "      <td>58</td>\n",
              "      <td>955.25</td>\n",
              "      <td>NaN</td>\n",
              "      <td>2499.0</td>\n",
              "      <td>3.563</td>\n",
              "      <td>0.170</td>\n",
              "      <td>11.331</td>\n",
              "      <td>21666.667</td>\n",
              "      <td>9.0</td>\n",
              "    </tr>\n",
              "    <tr>\n",
              "      <th>46</th>\n",
              "      <td>59</td>\n",
              "      <td>1248.85</td>\n",
              "      <td>2704.5</td>\n",
              "      <td>2321.0</td>\n",
              "      <td>5.150</td>\n",
              "      <td>0.070</td>\n",
              "      <td>13.088</td>\n",
              "      <td>NaN</td>\n",
              "      <td>8.4</td>\n",
              "    </tr>\n",
              "    <tr>\n",
              "      <th>47</th>\n",
              "      <td>60</td>\n",
              "      <td>1319.40</td>\n",
              "      <td>3682.0</td>\n",
              "      <td>2989.0</td>\n",
              "      <td>3.556</td>\n",
              "      <td>0.100</td>\n",
              "      <td>11.808</td>\n",
              "      <td>26301.583</td>\n",
              "      <td>9.0</td>\n",
              "    </tr>\n",
              "  </tbody>\n",
              "</table>\n",
              "</div>\n",
              "      <button class=\"colab-df-convert\" onclick=\"convertToInteractive('df-937745a4-7121-4783-9959-d3e7e648fbc0')\"\n",
              "              title=\"Convert this dataframe to an interactive table.\"\n",
              "              style=\"display:none;\">\n",
              "        \n",
              "  <svg xmlns=\"http://www.w3.org/2000/svg\" height=\"24px\"viewBox=\"0 0 24 24\"\n",
              "       width=\"24px\">\n",
              "    <path d=\"M0 0h24v24H0V0z\" fill=\"none\"/>\n",
              "    <path d=\"M18.56 5.44l.94 2.06.94-2.06 2.06-.94-2.06-.94-.94-2.06-.94 2.06-2.06.94zm-11 1L8.5 8.5l.94-2.06 2.06-.94-2.06-.94L8.5 2.5l-.94 2.06-2.06.94zm10 10l.94 2.06.94-2.06 2.06-.94-2.06-.94-.94-2.06-.94 2.06-2.06.94z\"/><path d=\"M17.41 7.96l-1.37-1.37c-.4-.4-.92-.59-1.43-.59-.52 0-1.04.2-1.43.59L10.3 9.45l-7.72 7.72c-.78.78-.78 2.05 0 2.83L4 21.41c.39.39.9.59 1.41.59.51 0 1.02-.2 1.41-.59l7.78-7.78 2.81-2.81c.8-.78.8-2.07 0-2.86zM5.41 20L4 18.59l7.72-7.72 1.47 1.35L5.41 20z\"/>\n",
              "  </svg>\n",
              "      </button>\n",
              "      \n",
              "  <style>\n",
              "    .colab-df-container {\n",
              "      display:flex;\n",
              "      flex-wrap:wrap;\n",
              "      gap: 12px;\n",
              "    }\n",
              "\n",
              "    .colab-df-convert {\n",
              "      background-color: #E8F0FE;\n",
              "      border: none;\n",
              "      border-radius: 50%;\n",
              "      cursor: pointer;\n",
              "      display: none;\n",
              "      fill: #1967D2;\n",
              "      height: 32px;\n",
              "      padding: 0 0 0 0;\n",
              "      width: 32px;\n",
              "    }\n",
              "\n",
              "    .colab-df-convert:hover {\n",
              "      background-color: #E2EBFA;\n",
              "      box-shadow: 0px 1px 2px rgba(60, 64, 67, 0.3), 0px 1px 3px 1px rgba(60, 64, 67, 0.15);\n",
              "      fill: #174EA6;\n",
              "    }\n",
              "\n",
              "    [theme=dark] .colab-df-convert {\n",
              "      background-color: #3B4455;\n",
              "      fill: #D2E3FC;\n",
              "    }\n",
              "\n",
              "    [theme=dark] .colab-df-convert:hover {\n",
              "      background-color: #434B5C;\n",
              "      box-shadow: 0px 1px 3px 1px rgba(0, 0, 0, 0.15);\n",
              "      filter: drop-shadow(0px 1px 2px rgba(0, 0, 0, 0.3));\n",
              "      fill: #FFFFFF;\n",
              "    }\n",
              "  </style>\n",
              "\n",
              "      <script>\n",
              "        const buttonEl =\n",
              "          document.querySelector('#df-937745a4-7121-4783-9959-d3e7e648fbc0 button.colab-df-convert');\n",
              "        buttonEl.style.display =\n",
              "          google.colab.kernel.accessAllowed ? 'block' : 'none';\n",
              "\n",
              "        async function convertToInteractive(key) {\n",
              "          const element = document.querySelector('#df-937745a4-7121-4783-9959-d3e7e648fbc0');\n",
              "          const dataTable =\n",
              "            await google.colab.kernel.invokeFunction('convertToInteractive',\n",
              "                                                     [key], {});\n",
              "          if (!dataTable) return;\n",
              "\n",
              "          const docLinkHtml = 'Like what you see? Visit the ' +\n",
              "            '<a target=\"_blank\" href=https://colab.research.google.com/notebooks/data_table.ipynb>data table notebook</a>'\n",
              "            + ' to learn more about interactive tables.';\n",
              "          element.innerHTML = '';\n",
              "          dataTable['output_type'] = 'display_data';\n",
              "          await google.colab.output.renderOutput(dataTable, element);\n",
              "          const docLink = document.createElement('div');\n",
              "          docLink.innerHTML = docLinkHtml;\n",
              "          element.appendChild(docLink);\n",
              "        }\n",
              "      </script>\n",
              "    </div>\n",
              "  </div>\n",
              "  "
            ],
            "text/plain": [
              "    Well_id  Reservoir Pressure  ...  Total Prop Mass  Max Prop Conc\n",
              "0         0             1250.50  ...        16787.317            7.0\n",
              "1         2              946.75  ...        14543.000            5.0\n",
              "2         3             1515.00  ...        14366.000            5.0\n",
              "3         4             2390.55  ...        15406.000            5.0\n",
              "4         8              655.95  ...        15504.917            7.0\n",
              "5         9             1837.95  ...        14162.417            5.0\n",
              "6        10              927.00  ...        16674.917            5.0\n",
              "7        11             1634.70  ...        12597.417            5.0\n",
              "8        12             1318.15  ...        11694.583            5.0\n",
              "9        13             1140.40  ...        15655.500            5.0\n",
              "10       15             2142.85  ...        14289.500            5.0\n",
              "11       16             1583.45  ...        14904.083            5.0\n",
              "12       17             1635.50  ...        11527.317            5.0\n",
              "13       18             1723.70  ...        12251.100            5.0\n",
              "14       19             1008.90  ...        13664.583            7.0\n",
              "15       21             1177.35  ...        12120.833            5.0\n",
              "16       22             1480.75  ...        14359.167            6.0\n",
              "17       23             1466.80  ...         7424.833            5.0\n",
              "18       24              320.50  ...              NaN            4.0\n",
              "19       25              490.60  ...        18889.167            7.0\n",
              "20       26             1923.00  ...          344.583            2.0\n",
              "21       28              935.70  ...        18122.333            6.0\n",
              "22       30              480.85  ...        15500.000            5.0\n",
              "23       31             2438.40  ...        14558.000            5.0\n",
              "24       32             1360.50  ...        15027.517            5.0\n",
              "25       33              618.70  ...        14037.000            6.0\n",
              "26       34             1630.90  ...         6363.083            3.0\n",
              "27       35             1860.80  ...        17250.000            6.0\n",
              "28       36             1545.35  ...        15183.333            5.0\n",
              "29       38              502.00  ...        15476.417            9.0\n",
              "30       39             2653.95  ...        22828.500            8.0\n",
              "31       40              257.10  ...        10247.167            8.0\n",
              "32       41              106.15  ...        11416.667            8.0\n",
              "33       43             1487.25  ...         6993.583            8.0\n",
              "34       44              953.50  ...         7166.667            8.0\n",
              "35       45             1340.20  ...        20749.583           10.0\n",
              "36       46             1355.60  ...        26874.000           10.0\n",
              "37       47              937.80  ...              NaN           10.0\n",
              "38       48             1161.50  ...              NaN            9.0\n",
              "39       51              933.60  ...        22932.500            8.0\n",
              "40       52             2285.70  ...              NaN            7.0\n",
              "41       54              617.15  ...        26720.917           10.0\n",
              "42       55             1020.10  ...        22975.000            9.0\n",
              "43       56             1873.60  ...        21381.083            8.0\n",
              "44       57              794.50  ...        24806.833            9.0\n",
              "45       58              955.25  ...        21666.667            9.0\n",
              "46       59             1248.85  ...              NaN            8.4\n",
              "47       60             1319.40  ...        26301.583            9.0\n",
              "\n",
              "[48 rows x 9 columns]"
            ]
          },
          "metadata": {},
          "execution_count": 160
        }
      ]
    },
    {
      "cell_type": "markdown",
      "source": [
        "В целевой переменной **Total Prop Mass** есть пропуски, отложим их в тестовую выборку:"
      ],
      "metadata": {
        "id": "1B9Q61SBMlJ2"
      }
    },
    {
      "cell_type": "code",
      "source": [
        "# обучающая выборка\n",
        "df_train = df[~df['Total Prop Mass'].isna()]\n",
        "\n",
        "# тестовая выборка\n",
        "df_test = df[df['Total Prop Mass'].isna()]\n",
        "\n",
        "# удалим колонку целевой переменной из тестовой выборки\n",
        "df_test.drop(['Total Prop Mass', 'Well_id'], axis=1, inplace=True)"
      ],
      "metadata": {
        "id": "7H62s8x9Kw0G",
        "colab": {
          "base_uri": "https://localhost:8080/"
        },
        "outputId": "ca26f99d-d589-484f-a63c-7f08f0afe20e"
      },
      "execution_count": 166,
      "outputs": [
        {
          "output_type": "stream",
          "name": "stderr",
          "text": [
            "/usr/local/lib/python3.7/dist-packages/pandas/core/frame.py:4913: SettingWithCopyWarning: \n",
            "A value is trying to be set on a copy of a slice from a DataFrame\n",
            "\n",
            "See the caveats in the documentation: https://pandas.pydata.org/pandas-docs/stable/user_guide/indexing.html#returning-a-view-versus-a-copy\n",
            "  errors=errors,\n"
          ]
        }
      ]
    },
    {
      "cell_type": "code",
      "source": [
        "df_train.shape, df_test.shape"
      ],
      "metadata": {
        "colab": {
          "base_uri": "https://localhost:8080/"
        },
        "id": "5AtF0xRzfi7S",
        "outputId": "f20ad3bb-d441-45a2-90f7-1ceb4933bf6f"
      },
      "execution_count": 167,
      "outputs": [
        {
          "output_type": "execute_result",
          "data": {
            "text/plain": [
              "((43, 9), (5, 7))"
            ]
          },
          "metadata": {},
          "execution_count": 167
        }
      ]
    },
    {
      "cell_type": "code",
      "source": [
        "df_train.info()"
      ],
      "metadata": {
        "colab": {
          "base_uri": "https://localhost:8080/"
        },
        "id": "D3-Me01_fV77",
        "outputId": "fef459b8-247a-4417-8e96-c212ba70b1e7"
      },
      "execution_count": 168,
      "outputs": [
        {
          "output_type": "stream",
          "name": "stdout",
          "text": [
            "<class 'pandas.core.frame.DataFrame'>\n",
            "Int64Index: 43 entries, 0 to 47\n",
            "Data columns (total 9 columns):\n",
            " #   Column              Non-Null Count  Dtype  \n",
            "---  ------              --------------  -----  \n",
            " 0   Well_id             43 non-null     int64  \n",
            " 1   Reservoir Pressure  43 non-null     float64\n",
            " 2   ISIP                40 non-null     float64\n",
            " 3   Closure Pressure    41 non-null     float64\n",
            " 4   PAD Volume          43 non-null     float64\n",
            " 5   Fluid Efficiency    43 non-null     float64\n",
            " 6   Transmissibility    43 non-null     float64\n",
            " 7   Total Prop Mass     43 non-null     float64\n",
            " 8   Max Prop Conc       43 non-null     float64\n",
            "dtypes: float64(8), int64(1)\n",
            "memory usage: 3.4 KB\n"
          ]
        }
      ]
    },
    {
      "cell_type": "markdown",
      "source": [
        "В датасете 48 наблюдений и 9 колонок, все в числовом формате."
      ],
      "metadata": {
        "id": "YN7E4SwmgIwp"
      }
    },
    {
      "cell_type": "markdown",
      "source": [
        "# Задание 1: Заполни все недостающие данные."
      ],
      "metadata": {
        "id": "qve06-lTZqZu"
      }
    },
    {
      "cell_type": "code",
      "source": [
        "# пропуски в датасете\n",
        "df_train.isna().mean().sort_values(ascending=False)"
      ],
      "metadata": {
        "colab": {
          "base_uri": "https://localhost:8080/"
        },
        "id": "sOzlyhG2ff91",
        "outputId": "360dbb9b-a090-4d92-a10d-8d7384e8fd32"
      },
      "execution_count": 169,
      "outputs": [
        {
          "output_type": "execute_result",
          "data": {
            "text/plain": [
              "ISIP                  0.069767\n",
              "Closure Pressure      0.046512\n",
              "Well_id               0.000000\n",
              "Reservoir Pressure    0.000000\n",
              "PAD Volume            0.000000\n",
              "Fluid Efficiency      0.000000\n",
              "Transmissibility      0.000000\n",
              "Total Prop Mass       0.000000\n",
              "Max Prop Conc         0.000000\n",
              "dtype: float64"
            ]
          },
          "metadata": {},
          "execution_count": 169
        }
      ]
    },
    {
      "cell_type": "markdown",
      "source": [
        "Видим пропуски в двух признаках:\n",
        "\n",
        "- ISIP ~ 6%;\n",
        "- Closure Pressure ~ 4%."
      ],
      "metadata": {
        "id": "KoCIkVr_j_i3"
      }
    },
    {
      "cell_type": "markdown",
      "source": [
        "Заполним пропуски. Для этого используем простой, но очень эффективный алгоритм: **KNN Imputer**.\n",
        "\n",
        "Для оптимизации модели, переберем в итерации несколько 'k' и на каждом шаге будем обучать XGBRegressor и прогнозировать 'Total Prop Mass'. Модель с наименьшей ошибкой и будет соответсвовать оптимальному 'k'."
      ],
      "metadata": {
        "id": "kuVGohi0kurz"
      }
    },
    {
      "cell_type": "code",
      "source": [
        "def optimize_k(dataframe, target):\n",
        "  \"\"\"\n",
        "  Поиск оптимального k для KNNImputer\n",
        "\n",
        "  :param dataframe: pd.DataFrame, датафрейм, на котором будет обучаться модель\n",
        "  :param target: str, название целевой переменной\n",
        "  :return: list, список словарей с k и ошибкой модели\n",
        "  \"\"\"\n",
        "  errors = []\n",
        "  for k in range(1, 21, 2):\n",
        "    # инициализация и применение модели к данным\n",
        "    imputer = KNNImputer(n_neighbors=k)\n",
        "    imputed = imputer.fit_transform(dataframe)\n",
        "    # трансформируем данные обратно в датафрейм\n",
        "    df = pd.DataFrame(imputed, columns=dataframe.columns)\n",
        "\n",
        "    # разбиваем данные на тренировочную и валидационную выборку\n",
        "    X_train, X_val, y_train, y_val = train_test_split(df.drop(target, axis=1),\n",
        "                                                      df[target],\n",
        "                                                      random_state=23)\n",
        "    # иинциализируем xgboost и обучаем модель\n",
        "    x = XGBRegressor(random_state=23)\n",
        "    x.fit(X_train, y_train)\n",
        "    # прогноз валидационной выборки\n",
        "    pred = x.predict(X_val)\n",
        "    # ошибка модели\n",
        "    mape = mean_absolute_percentage_error(y_val, pred)\n",
        "    # добавляем в список ошибок k и соответсвующую ей ошибку\n",
        "    errors.append(({'k': k, 'MAPE': mape}))\n",
        "\n",
        "\n",
        "  return errors"
      ],
      "metadata": {
        "id": "5fPEBDCOqcDv"
      },
      "execution_count": 170,
      "outputs": []
    },
    {
      "cell_type": "code",
      "source": [
        "errors = optimize_k(df, 'Total Prop Mass')"
      ],
      "metadata": {
        "id": "aaNYG8WBs08u"
      },
      "execution_count": null,
      "outputs": []
    },
    {
      "cell_type": "code",
      "source": [
        "errors"
      ],
      "metadata": {
        "colab": {
          "base_uri": "https://localhost:8080/"
        },
        "id": "Gr8woPftS5N2",
        "outputId": "03bc8e83-3d1c-42ed-c6c4-29a9a6aad450"
      },
      "execution_count": 172,
      "outputs": [
        {
          "output_type": "execute_result",
          "data": {
            "text/plain": [
              "[{'MAPE': 2.1015862494749435, 'k': 1},\n",
              " {'MAPE': 1.8911976002327189, 'k': 3},\n",
              " {'MAPE': 1.9118933426625386, 'k': 5},\n",
              " {'MAPE': 1.905202177113324, 'k': 7},\n",
              " {'MAPE': 1.9678472865888514, 'k': 9},\n",
              " {'MAPE': 1.9209157603616573, 'k': 11},\n",
              " {'MAPE': 1.8680140057419512, 'k': 13},\n",
              " {'MAPE': 1.8962602771909198, 'k': 15},\n",
              " {'MAPE': 1.9113803751645448, 'k': 17},\n",
              " {'MAPE': 1.9066216787893364, 'k': 19}]"
            ]
          },
          "metadata": {},
          "execution_count": 172
        }
      ]
    },
    {
      "cell_type": "markdown",
      "source": [
        "Оптимальное 'k' = 3.\n",
        "\n",
        "Заполним пропуски:"
      ],
      "metadata": {
        "id": "LyvlXaXuULXm"
      }
    },
    {
      "cell_type": "code",
      "source": [
        "# иинциализация модели\n",
        "imputer = KNNImputer(n_neighbors=3)\n",
        "# применим модель\n",
        "imputed = imputer.fit_transform(df_train)\n",
        "# конвертируем в датафрейм\n",
        "df_train_imp = pd.DataFrame(imputed, columns=df_train.columns)"
      ],
      "metadata": {
        "id": "EjtsE9x1SgU_"
      },
      "execution_count": 136,
      "outputs": []
    },
    {
      "cell_type": "markdown",
      "source": [
        "# Задание 2: Проверь гипотезу о связи данных."
      ],
      "metadata": {
        "id": "KwIDJN6TZk6s"
      }
    },
    {
      "cell_type": "markdown",
      "source": [
        "Наш коллега, занимающийся созданием планов проведения работ по гидроразрыву пласта, однажды поделился своим эмпирическим правилом (rule of thumb): чем больше давление в резервуаре, тем больше надо закачать в трещину проппана."
      ],
      "metadata": {
        "id": "LqaUqtlUv0Oj"
      }
    },
    {
      "cell_type": "markdown",
      "source": [
        "- Проверим так ли это на самом деле, применив критерий Спирмена, так как он не требует нормальности данных."
      ],
      "metadata": {
        "id": "ksRF4nBaBum-"
      }
    },
    {
      "cell_type": "code",
      "source": [
        "# критерий Спирмена\n",
        "stats.spearmanr(df_train_imp['Reservoir Pressure'], df_train_imp['Total Prop Mass'])"
      ],
      "metadata": {
        "colab": {
          "base_uri": "https://localhost:8080/"
        },
        "id": "QOE_NDLe3yyk",
        "outputId": "989a2a05-b329-4666-a0aa-0edda39f5a29"
      },
      "execution_count": 137,
      "outputs": [
        {
          "output_type": "execute_result",
          "data": {
            "text/plain": [
              "SpearmanrResult(correlation=-0.18317728782845064, pvalue=0.23969114977857986)"
            ]
          },
          "metadata": {},
          "execution_count": 137
        }
      ]
    },
    {
      "cell_type": "markdown",
      "source": [
        "- видим, что критерий уверенно принимает нулевую гипотезу, о том, что корелляция между двумя наблюдениями незначима, следовательно взаимозависимости между давлением в резеурвуаре и количеством пропана, требуемого к закачке, **нет**."
      ],
      "metadata": {
        "id": "3KwtNmphATpe"
      }
    },
    {
      "cell_type": "markdown",
      "source": [
        "Посмотрим, есть ли в датасете характеристики, которые сильно взаимосвязаны:"
      ],
      "metadata": {
        "id": "Nc41hjz-CSh8"
      }
    },
    {
      "cell_type": "code",
      "source": [
        "plt.figure(figsize=(8, 6))\n",
        "sns.heatmap(df_train_imp.drop('Well_id', axis=1).corr(method='spearman'), annot=True, linewidths=0.005, cmap='coolwarm')\n",
        "plt.title('Correlation map')\n",
        "plt.show()"
      ],
      "metadata": {
        "colab": {
          "base_uri": "https://localhost:8080/",
          "height": 473
        },
        "id": "GOeTkiGZV50b",
        "outputId": "a8205da0-4db7-4c6c-954d-7b4f75077113"
      },
      "execution_count": 138,
      "outputs": [
        {
          "output_type": "display_data",
          "data": {
            "image/png": "[encoded data removed]",
            "text/plain": [
              "<Figure size 576x432 with 2 Axes>"
            ]
          },
          "metadata": {
            "needs_background": "light"
          }
        }
      ]
    },
    {
      "cell_type": "markdown",
      "source": [
        "- Весьма высокая корреляция наблюдается между **ISIP**(давление жидкости после мини-ГРП) и **Closure Pressure**(давление жидкости, когда трещина полностью закрывается)\n",
        "\n",
        "Проверим ее значимость:"
      ],
      "metadata": {
        "id": "kgl7Lz3QDGgr"
      }
    },
    {
      "cell_type": "code",
      "source": [
        "# критерий Спирмена\n",
        "stats.spearmanr(df_train_imp['ISIP'], df_train_imp['Closure Pressure'])"
      ],
      "metadata": {
        "id": "Ent741gCab7v",
        "colab": {
          "base_uri": "https://localhost:8080/"
        },
        "outputId": "4f9e370a-6c07-4fd7-cf8c-acb3c01793a7"
      },
      "execution_count": 139,
      "outputs": [
        {
          "output_type": "execute_result",
          "data": {
            "text/plain": [
              "SpearmanrResult(correlation=0.9036544850498339, pvalue=1.0833260545810864e-16)"
            ]
          },
          "metadata": {},
          "execution_count": 139
        }
      ]
    },
    {
      "cell_type": "markdown",
      "source": [
        "- критерий уверенно отвергает нулевую гипотезу о том, что корелляция между двумя наблюдениями незначима, следовательно между **ISIP** и Closure **Pressure** действительно очень высокая взаимосвязь."
      ],
      "metadata": {
        "id": "-UTQKHtQOyz9"
      }
    },
    {
      "cell_type": "markdown",
      "source": [
        "# Задание 3: Натренируй модель машинного обучения."
      ],
      "metadata": {
        "id": "Qlx24E5oQjGn"
      }
    },
    {
      "cell_type": "markdown",
      "source": [
        "Опираясь на имеющиеся данные, построй модель для предсказания массы проппанта **Total\n",
        "Prop Mass** и оцени ее точность.\n"
      ],
      "metadata": {
        "id": "hYaAgck_QmXM"
      }
    },
    {
      "cell_type": "markdown",
      "source": [
        "Обучим XGBRegressor и СatBoostRegressor и усредним их прогноз."
      ],
      "metadata": {
        "id": "4N86ueKgc9YK"
      }
    },
    {
      "cell_type": "markdown",
      "source": [
        "Проверим, нет ли в данных дупликатов:"
      ],
      "metadata": {
        "id": "33d0NmbdRN42"
      }
    },
    {
      "cell_type": "code",
      "source": [
        "duplicates = df_train_imp.duplicated().sum()\n",
        "\n",
        "print(f'В датасете {duplicates} дупликатов.')"
      ],
      "metadata": {
        "colab": {
          "base_uri": "https://localhost:8080/"
        },
        "id": "-NOP2FwNOjbE",
        "outputId": "302aa4a9-2a14-425a-e26e-08876b910b60"
      },
      "execution_count": 140,
      "outputs": [
        {
          "output_type": "stream",
          "name": "stdout",
          "text": [
            "В датасете 0 дупликатов.\n"
          ]
        }
      ]
    },
    {
      "cell_type": "markdown",
      "source": [
        "Посмотрим на распределение целевой переменной:"
      ],
      "metadata": {
        "id": "NWwr0u7ZXdKO"
      }
    },
    {
      "cell_type": "code",
      "source": [
        "sns.histplot(df_train_imp['Total Prop Mass'])\n",
        "plt.show()"
      ],
      "metadata": {
        "colab": {
          "base_uri": "https://localhost:8080/",
          "height": 279
        },
        "id": "IwtqxVO_SnZU",
        "outputId": "301fd1de-2a97-4577-d6ae-d850e93ef37d"
      },
      "execution_count": 141,
      "outputs": [
        {
          "output_type": "display_data",
          "data": {
            "image/png": "[encoded data removed]",
            "text/plain": [
              "<Figure size 432x288 with 1 Axes>"
            ]
          },
          "metadata": {
            "needs_background": "light"
          }
        }
      ]
    },
    {
      "cell_type": "markdown",
      "source": [
        "- распределение целевой переменной не похоже на нормальное, проверим это, применив критерии Шапиро-Уилка и Харке-Бера:"
      ],
      "metadata": {
        "id": "Yvz_nAoKXhg3"
      }
    },
    {
      "cell_type": "code",
      "source": [
        "# критерий Шапиро-Уилка\n",
        "stat, p_value = stats.shapiro(df_train_imp['Total Prop Mass'])\n",
        "\n",
        "print(f'Статистика: {stat}, p_value: {p_value}')"
      ],
      "metadata": {
        "colab": {
          "base_uri": "https://localhost:8080/"
        },
        "id": "Ha0hYTzCXsEG",
        "outputId": "f6c51b95-d3e2-4096-edbf-09b5fef23998"
      },
      "execution_count": 142,
      "outputs": [
        {
          "output_type": "stream",
          "name": "stdout",
          "text": [
            "Статистика: 0.96145099401474, p_value: 0.15664900839328766\n"
          ]
        }
      ]
    },
    {
      "cell_type": "code",
      "source": [
        "# критерий Харке-Бера\n",
        "stat, p_value = stats.jarque_bera(df_train_imp['Total Prop Mass'])\n",
        "\n",
        "print(f'Статистика: {stat}, p_value: {p_value}')"
      ],
      "metadata": {
        "colab": {
          "base_uri": "https://localhost:8080/"
        },
        "id": "vW21KsphYu_W",
        "outputId": "b9ff1cb1-9d79-4c79-d07a-906e5b121948"
      },
      "execution_count": 143,
      "outputs": [
        {
          "output_type": "stream",
          "name": "stdout",
          "text": [
            "Статистика: 0.05937375660952339, p_value: 0.9707494486778364\n"
          ]
        }
      ]
    },
    {
      "cell_type": "markdown",
      "source": [
        "- Оба теста уверенно приняли нулевую гипотезу, что распределение целевой переменной - нормальное, поэтому мы не будем ее логарифмировать для обучения модели."
      ],
      "metadata": {
        "id": "S6qNu205ZDtW"
      }
    },
    {
      "cell_type": "code",
      "source": [
        "# разобьем датасет на обучающую и валидационную выборки\n",
        "train = df_train_imp.drop(['Well_id', 'Total Prop Mass'], axis=1)\n",
        "y = df_train_imp['Total Prop Mass']\n",
        "\n",
        "X_train, X_val, y_train, y_val = train_test_split(train, y, train_size=0.8, random_state=123)"
      ],
      "metadata": {
        "id": "3dhnxiK9TARt"
      },
      "execution_count": 144,
      "outputs": []
    },
    {
      "cell_type": "code",
      "source": [
        "X_train.shape, X_val.shape, y_train.shape, y_val.shape"
      ],
      "metadata": {
        "colab": {
          "base_uri": "https://localhost:8080/"
        },
        "id": "S2ZxYSQzVKHA",
        "outputId": "fb16b305-ec70-4fb3-8da2-9694abf18a36"
      },
      "execution_count": 145,
      "outputs": [
        {
          "output_type": "execute_result",
          "data": {
            "text/plain": [
              "((34, 7), (9, 7), (34,), (9,))"
            ]
          },
          "metadata": {},
          "execution_count": 145
        }
      ]
    },
    {
      "cell_type": "markdown",
      "source": [
        "### XGBRegressor:"
      ],
      "metadata": {
        "id": "wh5j3Vaybn15"
      }
    },
    {
      "cell_type": "code",
      "source": [
        "# инициализация\n",
        "x = XGBRegressor(n_estimators=300, max_depth=8, random_state=23)\n",
        "\n",
        "# обучение\n",
        "x.fit(X_train, y_train)\n",
        "\n",
        "# прогноз валидационной выборки\n",
        "xgb_predict_val = x.predict(X_val)\n",
        "\n",
        "# оценка модели\n",
        "xgb_mape = mean_absolute_percentage_error(y_val, xgb_predict_val)\n",
        "xgb_mae = mean_absolute_error(y_val, xgb_predict_val)\n",
        "\n",
        "print(f'\\nMAPE xgboost на валидационной выборке: {xgb_mape}')\n",
        "print(f'MAE xgboost на валидационной выборке: {xgb_mae}')"
      ],
      "metadata": {
        "colab": {
          "base_uri": "https://localhost:8080/"
        },
        "id": "8-gDmSaGVNPI",
        "outputId": "4c0e61d4-cf09-4ec6-86f4-896c33372ffe"
      },
      "execution_count": 146,
      "outputs": [
        {
          "output_type": "stream",
          "name": "stdout",
          "text": [
            "[10:06:23] WARNING: /workspace/src/objective/regression_obj.cu:152: reg:linear is now deprecated in favor of reg:squarederror.\n",
            "\n",
            "MAPE xgboost на валидационной выборке: 0.1187532120473023\n",
            "MAE xgboost на валидационной выборке: 1810.1937925347224\n"
          ]
        }
      ]
    },
    {
      "cell_type": "markdown",
      "source": [
        "Видим, что XGBRegressor в среднем ошибается на 11.87%, что неплохой результат."
      ],
      "metadata": {
        "id": "Gg0rciVgghIQ"
      }
    },
    {
      "cell_type": "markdown",
      "source": [
        "### CatBoostRegressor:"
      ],
      "metadata": {
        "id": "kEGKHoSBeAVF"
      }
    },
    {
      "cell_type": "code",
      "source": [
        "# инициализация\n",
        "cb = CatBoostRegressor(iterations=170, max_depth=8,  random_state=23, verbose=False)\n",
        "\n",
        "# обучение\n",
        "cb.fit(X_train, y_train)\n",
        "\n",
        "# прогноз валидационной выборки\n",
        "cb_predict_val = cb.predict(X_val)\n",
        "\n",
        "# оценка модели\n",
        "cb_mape = mean_absolute_percentage_error(y_val, cb_predict_val)\n",
        "cb_mae = mean_absolute_error(y_val, cb_predict_val)\n",
        "\n",
        "print(f'MAPE catboost на валидационной выборке: {cb_mape}')\n",
        "print(f'MAE catboost на валидационной выборке: {cb_mae}')"
      ],
      "metadata": {
        "colab": {
          "base_uri": "https://localhost:8080/"
        },
        "id": "EWaDy-M6eJ5u",
        "outputId": "36ace891-5e8d-45c3-b0d2-2b8e14aba051"
      },
      "execution_count": 147,
      "outputs": [
        {
          "output_type": "stream",
          "name": "stdout",
          "text": [
            "MAPE catboost на валидационной выборке: 0.09908682744287606\n",
            "MAE catboost на валидационной выборке: 1451.989876578883\n"
          ]
        }
      ]
    },
    {
      "cell_type": "markdown",
      "source": [
        "CatBoostRegressor в среднем ошибается на 9.90%, что почти на 2% лучше чем XGBRegressor."
      ],
      "metadata": {
        "id": "4PXMOFIHhE1M"
      }
    },
    {
      "cell_type": "markdown",
      "source": [
        "Объединим два алгоритма:"
      ],
      "metadata": {
        "id": "HPxvcng6hVYU"
      }
    },
    {
      "cell_type": "code",
      "source": [
        "# объединение двух прогнозов\n",
        "total_predict_val = (xgb_predict_val + cb_predict_val) / 2\n",
        "\n",
        "# MAPE после объединения\n",
        "total_mape = mean_absolute_percentage_error(y_val, total_predict_val)\n",
        "\n",
        "print(f'MAPE после объединения двух алгоритмов: {total_mape}')"
      ],
      "metadata": {
        "colab": {
          "base_uri": "https://localhost:8080/"
        },
        "id": "YoNwwgbdeN2n",
        "outputId": "d81f0847-45d8-47c0-d7e0-3863d98a70c2"
      },
      "execution_count": 148,
      "outputs": [
        {
          "output_type": "stream",
          "name": "stdout",
          "text": [
            "MAPE после объединения двух алгоритмов: 0.0913265959434874\n"
          ]
        }
      ]
    },
    {
      "cell_type": "markdown",
      "source": [
        "Объединение двух алгоритмов позволило **улучшить** метрику на валидационной выборке еще на 0.77%."
      ],
      "metadata": {
        "id": "ERmhFOlZiyu4"
      }
    },
    {
      "cell_type": "markdown",
      "source": [
        "### Прогноз тестовой выборки:"
      ],
      "metadata": {
        "id": "8by3tJfojteV"
      }
    },
    {
      "cell_type": "code",
      "source": [
        "# xgboostregressor\n",
        "xgb_predict_test = x.predict(df_test)\n",
        "\n",
        "# catboostregressor\n",
        "cb_predict_test = cb.predict(df_test)\n",
        "\n",
        "# объединенный прогноз\n",
        "test_prediction = (xgb_predict_test + cb_predict_test) / 2\n",
        "\n",
        "print(test_prediction)"
      ],
      "metadata": {
        "colab": {
          "base_uri": "https://localhost:8080/"
        },
        "id": "UrBUuRRbXfFT",
        "outputId": "99d20c8b-17ff-42e3-fd7d-90b03f143cd8"
      },
      "execution_count": 149,
      "outputs": [
        {
          "output_type": "stream",
          "name": "stdout",
          "text": [
            "[15134.70724829 20686.03059998 21160.60976884 11831.81973288\n",
            " 18100.03571718]\n"
          ]
        }
      ]
    }
  ]
}